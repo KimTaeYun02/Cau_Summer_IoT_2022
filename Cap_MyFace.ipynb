{
 "cells": [
  {
   "cell_type": "code",
   "execution_count": 9,
   "id": "fe57690a",
   "metadata": {},
   "outputs": [],
   "source": [
    "import cv2\n",
    "\n",
    "webcam = cv2.VideoCapture(0)\n",
    " \n",
    "if not webcam.isOpened():\n",
    "    print(\"Could not open webcam\")\n",
    "    exit()\n",
    "    \n",
    " \n",
    "\n",
    "sample_num = 0\n",
    "captured_num = 0\n",
    "    \n",
    "while webcam.isOpened():\n",
    "    \n",
    "    status, frame = webcam.read()\n",
    "    sample_num = sample_num + 1\n",
    "    \n",
    "    if not status:\n",
    "        break\n",
    " \n",
    "    cv2.imshow(\"captured frames\", frame)\n",
    "    \n",
    "    #사진 찍는 속도 설정\n",
    "    if sample_num == 10:\n",
    "        captured_num = captured_num + 1\n",
    "        \n",
    "        #~~~에는 파일 경로 작성해야함.\n",
    "        cv2.imwrite('./~~~/img'+str(captured_num)+'.jpg', frame)\n",
    "        sample_num = 0\n",
    "        \n",
    "    \n",
    "    # Q누르면 Stop\n",
    "    if cv2.waitKey(1) & 0xFF == ord('q'):\n",
    "        break\n",
    "    \n",
    "# release resources\n",
    "webcam.release()\n",
    "cv2.destroyAllWindows()   \n"
   ]
  },
  {
   "cell_type": "code",
   "execution_count": null,
   "id": "c8851e94",
   "metadata": {},
   "outputs": [],
   "source": []
  }
 ],
 "metadata": {
  "kernelspec": {
   "display_name": "Python 3",
   "language": "python",
   "name": "python3"
  },
  "language_info": {
   "codemirror_mode": {
    "name": "ipython",
    "version": 3
   },
   "file_extension": ".py",
   "mimetype": "text/x-python",
   "name": "python",
   "nbconvert_exporter": "python",
   "pygments_lexer": "ipython3",
   "version": "3.8.8"
  }
 },
 "nbformat": 4,
 "nbformat_minor": 5
}
